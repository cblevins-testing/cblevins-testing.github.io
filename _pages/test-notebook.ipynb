{
 "cells": [
  {
   "cell_type": "markdown",
   "metadata": {},
   "source": [
    "## Example Notebook With Images\n",
    "\n",
    "This is an example Jupyter Notebook to show how to use it to render images.  "
   ]
  },
  {
   "cell_type": "markdown",
   "metadata": {},
   "source": []
  },
  {
   "cell_type": "markdown",
   "metadata": {},
   "source": [
    "Markdown cell with no formatting: \n",
    "![example-screenshot.png](../assets/img/example-screenshot.png)\n"
   ]
  },
  {
   "cell_type": "markdown",
   "metadata": {},
   "source": [
    "Markdown cell image with HTML formatting:\n",
    "\n",
    "<div align=\"center\">\n",
    "  <img\n",
    "    src=\"../assets/img/profile-1.png\"\n",
    "    width=\"30%\"\n",
    "    style=\"border: 2px solid\"\n",
    "    alt=\"Description of image\"\n",
    "  />\n",
    "  <figcaption style=\"font-style: italic\">\n",
    "    Figure 1: Detailed description of what the image represents\n",
    "  </figcaption>\n",
    "</div>"
   ]
  },
  {
   "cell_type": "markdown",
   "metadata": {},
   "source": [
    "Rendering an image with formatting using `IPython.diplay` library:"
   ]
  },
  {
   "cell_type": "code",
   "execution_count": 30,
   "metadata": {},
   "outputs": [
    {
     "data": {
      "text/html": [
       "<img src=\"../assets/img/example-screenshot.png\" width=\"300\"/>"
      ],
      "text/plain": [
       "<IPython.core.display.Image object>"
      ]
     },
     "execution_count": 30,
     "metadata": {},
     "output_type": "execute_result"
    }
   ],
   "source": [
    "# import image module \n",
    "from IPython.display import Image \n",
    "  \n",
    "# get the image \n",
    "Image(url=\"../assets/img/example-screenshot.png\", width=300) "
   ]
  },
  {
   "cell_type": "code",
   "execution_count": null,
   "metadata": {},
   "outputs": [],
   "source": []
  }
 ],
 "metadata": {
  "kernelspec": {
   "display_name": "Python [conda env:base]",
   "language": "python",
   "name": "conda-base-py"
  },
  "language_info": {
   "codemirror_mode": {
    "name": "ipython",
    "version": 3
   },
   "file_extension": ".py",
   "mimetype": "text/x-python",
   "name": "python",
   "nbconvert_exporter": "python",
   "pygments_lexer": "ipython3",
   "version": "3.9.7"
  }
 },
 "nbformat": 4,
 "nbformat_minor": 4
}
