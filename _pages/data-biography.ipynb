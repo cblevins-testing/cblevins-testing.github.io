{
 "cells": [
  {
   "cell_type": "markdown",
   "id": "07914227-2d3a-4fd3-b128-06249bcbb23e",
   "metadata": {},
   "source": [
    "## Data Biography\n",
    "\n",
    "This is my data biography."
   ]
  },
  {
   "cell_type": "code",
   "execution_count": 2,
   "id": "c8059129-15f4-4477-8bd4-8258a6a01d0b",
   "metadata": {},
   "outputs": [
    {
     "name": "stdout",
     "output_type": "stream",
     "text": [
      "hello\n"
     ]
    }
   ],
   "source": [
    "print(\"hello\")"
   ]
  },
  {
   "cell_type": "code",
   "execution_count": 3,
   "id": "98087937-687e-4d12-bad7-2015937b79a3",
   "metadata": {},
   "outputs": [
    {
     "name": "stdout",
     "output_type": "stream",
     "text": [
      "test change\n"
     ]
    }
   ],
   "source": [
    "print(\"test change\")"
   ]
  },
  {
   "cell_type": "code",
   "execution_count": 5,
   "id": "5ffe5e09-88f6-4a4d-9c64-96ac8adf0b28",
   "metadata": {},
   "outputs": [
    {
     "name": "stdout",
     "output_type": "stream",
     "text": [
      "test change 1\n"
     ]
    }
   ],
   "source": [
    "print(\"test change 1\")"
   ]
  },
  {
   "cell_type": "code",
   "execution_count": null,
   "id": "1bca500d-d30a-4d47-b2c1-d80ef2149958",
   "metadata": {},
   "outputs": [],
   "source": []
  }
 ],
 "metadata": {
  "kernelspec": {
   "display_name": "Python [conda env:base]",
   "language": "python",
   "name": "conda-base-py"
  },
  "language_info": {
   "codemirror_mode": {
    "name": "ipython",
    "version": 3
   },
   "file_extension": ".py",
   "mimetype": "text/x-python",
   "name": "python",
   "nbconvert_exporter": "python",
   "pygments_lexer": "ipython3",
   "version": "3.9.7"
  }
 },
 "nbformat": 4,
 "nbformat_minor": 5
}
